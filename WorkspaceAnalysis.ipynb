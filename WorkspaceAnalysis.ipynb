{
 "cells": [
  {
   "cell_type": "code",
   "execution_count": 1,
   "id": "99be855a",
   "metadata": {},
   "outputs": [
    {
     "name": "stderr",
     "output_type": "stream",
     "text": [
      "/usr/lib/python3/dist-packages/requests/__init__.py:87: RequestsDependencyWarning: urllib3 (2.3.0) or chardet (4.0.0) doesn't match a supported version!\n",
      "  warnings.warn(\"urllib3 ({}) or chardet ({}) doesn't match a supported \"\n"
     ]
    },
    {
     "name": "stdout",
     "output_type": "stream",
     "text": [
      "Jupyter environment detected. Enabling Open3D WebVisualizer.\n",
      "[Open3D INFO] WebRTC GUI backend enabled.\n",
      "[Open3D INFO] WebRTCWindowSystem: HTTP handshake server disabled.\n"
     ]
    }
   ],
   "source": [
    "import importlib\n",
    "import data_loader\n",
    "importlib.reload(data_loader)\n",
    "\n",
    "from data_loader import PointCloudLoader\n",
    "import open3d as o3d\n",
    "import numpy as np\n",
    "import matplotlib.pyplot as plt\n",
    "from scipy.spatial import KDTree"
   ]
  },
  {
   "cell_type": "code",
   "execution_count": null,
   "id": "a2714a92",
   "metadata": {},
   "outputs": [],
   "source": [
    "loader = PointCloudLoader(\"hand_positions.txt\")\n",
    "loader.load_points()\n",
    "\n",
    "slice_points = loader.filter_by_y_range(-0.1, 0.1)"
   ]
  },
  {
   "cell_type": "code",
   "execution_count": null,
   "id": "21806b98",
   "metadata": {},
   "outputs": [],
   "source": [
    "\n",
    "\n",
    "# Exemple avec des points\n",
    "pcd = o3d.geometry.PointCloud()\n",
    "pcd.points = o3d.utility.Vector3dVector(slice_points)\n",
    "\n",
    "# Ouvre une fenêtre native en dehors du notebook\n",
    "o3d.visualization.draw_geometries([pcd], window_name=\"Coupe Y ∈ [-0.1, 0.1]\")"
   ]
  },
  {
   "cell_type": "code",
   "execution_count": 2,
   "id": "90e50330",
   "metadata": {},
   "outputs": [
    {
     "name": "stdout",
     "output_type": "stream",
     "text": [
      "[OK] Loaded 10000000 points from hand_positions.txt\n"
     ]
    }
   ],
   "source": [
    "loader = PointCloudLoader(\"hand_positions.txt\")\n",
    "loader.load_points()\n",
    "all_points = loader.points\n"
   ]
  },
  {
   "cell_type": "code",
   "execution_count": 3,
   "id": "694197e6",
   "metadata": {},
   "outputs": [],
   "source": [
    "def create_line_set_from_point_cloud(pcd, distance_threshold=0.02):\n",
    "    points = np.asarray(pcd.points)\n",
    "    tree = KDTree(points)\n",
    "\n",
    "    lines = []\n",
    "    for i, point in enumerate(points):\n",
    "        idx = tree.query_ball_point(point, r=distance_threshold)\n",
    "        for j in idx:\n",
    "            if i < j:\n",
    "                lines.append([i, j])\n",
    "\n",
    "    line_set = o3d.geometry.LineSet()\n",
    "    line_set.points = pcd.points\n",
    "    line_set.lines = o3d.utility.Vector2iVector(lines)\n",
    "    line_set.paint_uniform_color([0.0, 0.0, 0.0])  # Noir\n",
    "    return line_set"
   ]
  },
  {
   "cell_type": "code",
   "execution_count": 4,
   "id": "ec82e50c",
   "metadata": {},
   "outputs": [],
   "source": [
    "def create_wireframe_from_point_cloud(\n",
    "    pcd: o3d.geometry.PointCloud,\n",
    "    voxel_size: float = 0.5,\n",
    "    k: int = 6\n",
    ") -> o3d.geometry.LineSet:\n",
    "    \"\"\"\n",
    "    Downsample un nuage de points et crée un LineSet en connectant chaque point à ses k plus proches voisins.\n",
    "\n",
    "    Args:\n",
    "        pcd (o3d.geometry.PointCloud): Le nuage de points d'origine.\n",
    "        voxel_size (float): Taille du voxel pour le downsampling.\n",
    "        k (int): Nombre de voisins à connecter.\n",
    "\n",
    "    Returns:\n",
    "        o3d.geometry.LineSet: Le maillage filaire.\n",
    "    \"\"\"\n",
    "    # Downsample\n",
    "    pcd_down = pcd.voxel_down_sample(voxel_size=voxel_size)\n",
    "    points = np.asarray(pcd_down.points)\n",
    "\n",
    "    # KNN\n",
    "    tree = KDTree(points)\n",
    "    lines = []\n",
    "    for i, point in enumerate(points):\n",
    "        _, idxs = tree.query(point, k=k)\n",
    "        for j in idxs:\n",
    "            if i < j:\n",
    "                lines.append([i, j])\n",
    "\n",
    "    line_set = o3d.geometry.LineSet()\n",
    "    line_set.points = pcd_down.points\n",
    "    line_set.lines = o3d.utility.Vector2iVector(lines)\n",
    "    line_set.paint_uniform_color([0, 0, 0])  # noir\n",
    "\n",
    "    return line_set"
   ]
  },
  {
   "cell_type": "code",
   "execution_count": 6,
   "id": "00ae24c3",
   "metadata": {},
   "outputs": [],
   "source": [
    "def show_with_view(geometry, view=\"top\"):\n",
    "    \"\"\"\n",
    "    Affiche une géométrie avec une vue fixée (top, front, side).\n",
    "\n",
    "    Args:\n",
    "        geometry: o3d.geometry.PointCloud, TriangleMesh, etc.\n",
    "        view: \"top\", \"front\", \"side\"\n",
    "    \"\"\"\n",
    "    import open3d as o3d\n",
    "    import numpy as np\n",
    "\n",
    "    vis = o3d.visualization.Visualizer()\n",
    "    vis.create_window(window_name=f\"View: {view}\", width=800, height=600)\n",
    "    vis.add_geometry(geometry)\n",
    "\n",
    "    # Vue selon orientation\n",
    "    ctr = vis.get_view_control()\n",
    "    ctr.set_zoom(0.8)\n",
    "\n",
    "    if view == \"top\":       # Vue du dessus (plan X-Y, Z vertical)\n",
    "        ctr.set_front([0, 0, -1])\n",
    "        ctr.set_lookat([0, 0, 0])\n",
    "        ctr.set_up([0, 1, 0])\n",
    "    elif view == \"front\":   # Vue de face (plan X-Z, Y vertical)\n",
    "        ctr.set_front([0, -1, 0])\n",
    "        ctr.set_lookat([0, 0, 0])\n",
    "        ctr.set_up([0, 0, 1])\n",
    "    elif view == \"side\":    # Vue de côté (plan Y-Z, X vertical)\n",
    "        ctr.set_front([-1, 0, 0])\n",
    "        ctr.set_lookat([0, 0, 0])\n",
    "        ctr.set_up([0, 0, 1])\n",
    "    else:\n",
    "        print(f\"[WARN] Vue inconnue: {view}, utilisation par défaut\")\n",
    "\n",
    "    vis.run()\n",
    "    vis.destroy_window()\n"
   ]
  },
  {
   "cell_type": "code",
   "execution_count": 8,
   "id": "78c020c0",
   "metadata": {},
   "outputs": [],
   "source": [
    "# Ton nuage\n",
    "pcd_all = o3d.geometry.PointCloud()\n",
    "pcd_all.points = o3d.utility.Vector3dVector(all_points)\n",
    "\n",
    "# Couleur par Z\n",
    "z = np.asarray(all_points)[:, 2]\n",
    "z_norm = (z - z.min()) / (z.max() - z.min())\n",
    "colors = plt.cm.viridis(z_norm)[:, :3]\n",
    "pcd_all.colors = o3d.utility.Vector3dVector(colors)\n",
    "\n",
    "# Wireframe \"léger\" via downsample + KNN\n",
    "wireframe = create_wireframe_from_point_cloud(pcd_all, voxel_size=0.01, k=6)\n",
    "\n",
    "# Repère\n",
    "frame = o3d.geometry.TriangleMesh.create_coordinate_frame(size=0.1)\n",
    "\n",
    "\n"
   ]
  },
  {
   "cell_type": "code",
   "execution_count": null,
   "id": "39d64359",
   "metadata": {},
   "outputs": [],
   "source": [
    "# Affichage\n",
    "o3d.visualization.draw_geometries([pcd_all, wireframe, frame], window_name=\"Nuage avec wireframe optimisé\")"
   ]
  },
  {
   "cell_type": "code",
   "execution_count": 11,
   "id": "0532f1c8",
   "metadata": {},
   "outputs": [
    {
     "name": "stdout",
     "output_type": "stream",
     "text": [
      "[WARN] Vue inconnue: bottom, utilisation par défaut\n"
     ]
    }
   ],
   "source": [
    "show_with_view(pcd_all, view=\"bottom\")    # vue de dessus (XY)\n",
    "show_with_view(pcd_all, view=\"front\")  # vue de face (XZ)\n",
    "show_with_view(pcd_all, view=\"side\")   # vue de côté (YZ)\n",
    "\n",
    "# ou pour ton wireframe :\n",
    "show_with_view(wireframe, view=\"top\")\n"
   ]
  },
  {
   "cell_type": "code",
   "execution_count": null,
   "id": "28e003e4",
   "metadata": {},
   "outputs": [],
   "source": [
    "# Ton nuage\n",
    "pcd_all = o3d.geometry.PointCloud()\n",
    "pcd_all.points = o3d.utility.Vector3dVector(all_points)\n",
    "\n",
    "# Couleur (hauteur Z)\n",
    "z = np.asarray(all_points)[:, 2]\n",
    "z_norm = (z - z.min()) / (z.max() - z.min())\n",
    "colors = plt.cm.cividis(z_norm)[:, :3]\n",
    "pcd_all.colors = o3d.utility.Vector3dVector(colors)\n",
    "\n",
    "# Génération des lignes entre points proches\n",
    "lines = create_line_set_from_point_cloud(pcd_all, distance_threshold=0.02)\n",
    "\n",
    "# Repère\n",
    "frame = o3d.geometry.TriangleMesh.create_coordinate_frame(size=0.1)\n",
    "\n",
    "# Affichage\n",
    "o3d.visualization.draw_geometries([pcd_all, lines, frame], window_name=\"Nuage avec contours visuels\")\n"
   ]
  },
  {
   "cell_type": "code",
   "execution_count": null,
   "id": "3b6bc79b",
   "metadata": {},
   "outputs": [],
   "source": [
    "# Chargement des points (assumé que loader est déjà dispo)\n",
    "all_points = loader.points\n",
    "\n",
    "# Nuage complet\n",
    "pcd_all = o3d.geometry.PointCloud()\n",
    "pcd_all.points = o3d.utility.Vector3dVector(all_points)\n",
    "\n",
    "# Couleur par hauteur (Z)\n",
    "z = np.asarray(pcd_all.points)[:, 2]\n",
    "z_norm = (z - z.min()) / (z.max() - z.min())\n",
    "colors = plt.cm.viridis(z_norm)[:, :3]\n",
    "pcd_all.colors = o3d.utility.Vector3dVector(colors)\n",
    "\n",
    "# Nuage tranche\n",
    "slice_points = loader.filter_by_y_range(-0.1, 0.1)\n",
    "pcd_slice = o3d.geometry.PointCloud()\n",
    "pcd_slice.points = o3d.utility.Vector3dVector(slice_points)\n",
    "pcd_slice.paint_uniform_color([1.0, 0.0, 0.0])  # rouge\n",
    "\n",
    "# Repère\n",
    "frame = o3d.geometry.TriangleMesh.create_coordinate_frame(size=0.1)\n",
    "\n",
    "# Reconstruction de surface non convexe via Poisson\n",
    "pcd_all.estimate_normals(\n",
    "    search_param=o3d.geometry.KDTreeSearchParamHybrid(radius=0.05, max_nn=30)\n",
    ")\n",
    "mesh, densities = o3d.geometry.TriangleMesh.create_from_point_cloud_poisson(pcd_all, depth=9)\n",
    "mesh.compute_vertex_normals()\n",
    "mesh.paint_uniform_color([0.0, 0.6, 1.0])  # bleu clair\n",
    "\n",
    "# Affichage global : nuage, reconstruction et repère\n",
    "o3d.visualization.draw_geometries(\n",
    "    [pcd_all, pcd_slice, mesh, frame],\n",
    "    window_name=\"Nuage + Tranche + Mesh Poisson\"\n",
    ")"
   ]
  },
  {
   "cell_type": "code",
   "execution_count": null,
   "id": "cbe5cf63",
   "metadata": {},
   "outputs": [],
   "source": [
    "# Chargement des points (assumé que loader est déjà dispo)\n",
    "all_points = loader.points\n",
    "\n",
    "# Nuage complet\n",
    "pcd_all = o3d.geometry.PointCloud()\n",
    "pcd_all.points = o3d.utility.Vector3dVector(all_points)\n",
    "\n",
    "# Estimation des normales\n",
    "pcd_all.estimate_normals(\n",
    "    search_param=o3d.geometry.KDTreeSearchParamHybrid(radius=0.05, max_nn=30)\n",
    ")\n",
    "\n",
    "# Reconstruction Poisson\n",
    "mesh, densities = o3d.geometry.TriangleMesh.create_from_point_cloud_poisson(\n",
    "    pcd_all, depth=12\n",
    ")\n",
    "# Suppression des triangles avec une densité faible\n",
    "densities = np.asarray(densities)\n",
    "density_threshold = np.percentile(densities, 90)  # Garde les 90% des plus denses\n",
    "\n",
    "# Masque des indices avec densité faible\n",
    "indices = np.where(densities > density_threshold)[0]\n",
    "\n",
    "# Filtrage du mesh en fonction des indices\n",
    "mesh_filtered = mesh.select_by_index(indices)\n",
    "mesh_filtered = mesh_filtered.filter_smooth_simple(number_of_iterations=10)\n",
    "\n",
    "# Affichage du mesh filtré\n",
    "o3d.visualization.draw_geometries([mesh_filtered], window_name=\"Filtered Poisson Mesh\")\n",
    "\n",
    "# # Calcul des normales pour un rendu propre\n",
    "# mesh.compute_vertex_normals()\n",
    "\n",
    "# # Couleur bleue claire pour bien voir\n",
    "# mesh.paint_uniform_color([0.0, 0.6, 1.0])\n",
    "\n",
    "# # Affichage du mesh seul\n",
    "# o3d.visualization.draw_geometries([mesh], window_name=\"Poisson Mesh\")"
   ]
  },
  {
   "cell_type": "code",
   "execution_count": null,
   "id": "0ab263f1",
   "metadata": {},
   "outputs": [],
   "source": [
    "def generate_and_save_poisson_mesh(points, output_path=\"poisson_mesh.ply\", density_path=\"densities.npy\", depth=9, voxel_size=0.01):\n",
    "    pcd = o3d.geometry.PointCloud()\n",
    "    pcd.points = o3d.utility.Vector3dVector(points)\n",
    "    pcd = pcd.voxel_down_sample(voxel_size=voxel_size)\n",
    "    pcd.estimate_normals(search_param=o3d.geometry.KDTreeSearchParamHybrid(radius=0.05, max_nn=30))\n",
    "\n",
    "    mesh, densities = o3d.geometry.TriangleMesh.create_from_point_cloud_poisson(pcd, depth=depth)\n",
    "\n",
    "    o3d.io.write_triangle_mesh(output_path, mesh)\n",
    "    np.save(density_path, np.asarray(densities))\n",
    "\n",
    "    print(f\"[OK] Mesh saved to: {output_path}\")\n",
    "    print(f\"[OK] Densities saved to: {density_path}\")\n"
   ]
  },
  {
   "cell_type": "code",
   "execution_count": null,
   "id": "6366c11a",
   "metadata": {},
   "outputs": [],
   "source": [
    "def load_and_filter_poisson_mesh(\n",
    "    mesh_path=\"poisson_mesh.ply\",\n",
    "    density_path=\"densities.npy\",\n",
    "    keep_percentile=90,\n",
    "    smooth_iter=10,\n",
    "    colorize=True\n",
    "):\n",
    "    # Chargement du mesh\n",
    "    mesh = o3d.io.read_triangle_mesh(mesh_path)\n",
    "    mesh.compute_vertex_normals()\n",
    "\n",
    "    # Chargement des densités\n",
    "    densities = np.load(density_path)\n",
    "    threshold = np.percentile(densities, keep_percentile)\n",
    "    indices = np.where(densities > threshold)[0]\n",
    "\n",
    "    # Filtrage du mesh\n",
    "    mesh_filtered = mesh.select_by_index(indices)\n",
    "    mesh_filtered = mesh_filtered.filter_smooth_simple(number_of_iterations=smooth_iter)\n",
    "    mesh_filtered.compute_vertex_normals()\n",
    "\n",
    "    if colorize:\n",
    "        # Normalisation des densités restantes\n",
    "        filtered_densities = densities[indices]\n",
    "        norm = (filtered_densities - filtered_densities.min()) / (filtered_densities.max() - filtered_densities.min())\n",
    "        colors = plt.cm.plasma(norm)[:, :3]  # ou viridis, inferno, etc.\n",
    "        mesh_filtered.vertex_colors = o3d.utility.Vector3dVector(colors)\n",
    "\n",
    "    # Affichage\n",
    "    o3d.visualization.draw_geometries([mesh_filtered], window_name=\"Filtered Poisson Mesh (colored)\")\n"
   ]
  },
  {
   "cell_type": "code",
   "execution_count": null,
   "id": "23deaf46",
   "metadata": {},
   "outputs": [],
   "source": [
    "generate_and_save_poisson_mesh(loader.points)"
   ]
  },
  {
   "cell_type": "code",
   "execution_count": null,
   "id": "5fae0c6a",
   "metadata": {},
   "outputs": [],
   "source": [
    "load_and_filter_poisson_mesh(\"poisson_mesh.ply\")"
   ]
  },
  {
   "cell_type": "code",
   "execution_count": null,
   "id": "27044e70",
   "metadata": {},
   "outputs": [],
   "source": [
    "load_and_filter_poisson_mesh(\n",
    "    mesh_path=\"poisson_mesh.ply\",\n",
    "    density_path=\"densities.npy\",\n",
    "    keep_percentile=30,\n",
    "    smooth_iter=5,\n",
    "    colorize=True\n",
    ")"
   ]
  },
  {
   "cell_type": "code",
   "execution_count": null,
   "id": "22909398",
   "metadata": {},
   "outputs": [],
   "source": [
    "mesh = o3d.io.read_triangle_mesh(\"poisson_mesh.ply\")\n",
    "o3d.visualization.draw_geometries([mesh], window_name=\"Filtered Poisson Mesh\")"
   ]
  }
 ],
 "metadata": {
  "kernelspec": {
   "display_name": "Python 3",
   "language": "python",
   "name": "python3"
  },
  "language_info": {
   "codemirror_mode": {
    "name": "ipython",
    "version": 3
   },
   "file_extension": ".py",
   "mimetype": "text/x-python",
   "name": "python",
   "nbconvert_exporter": "python",
   "pygments_lexer": "ipython3",
   "version": "3.10.12"
  }
 },
 "nbformat": 4,
 "nbformat_minor": 5
}

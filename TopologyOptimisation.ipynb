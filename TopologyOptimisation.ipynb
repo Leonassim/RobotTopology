{
 "cells": [
  {
   "cell_type": "markdown",
   "id": "08437f45",
   "metadata": {},
   "source": [
    "# 7-DOF Robot Topology Optimization using Pinocchio + CasADi\n",
    "\n",
    "This notebook demonstrates how to optimize the link lengths of a 7-DOF robotic arm using CasADi and Pinocchio.  \n",
    "The objective is to maximize the average manipulability over a set of sampled configurations.\n"
   ]
  },
  {
   "cell_type": "code",
   "execution_count": 47,
   "id": "7fa7d104",
   "metadata": {},
   "outputs": [],
   "source": [
    "import numpy as np\n",
    "from casadi import SX, vertcat, Function, sum1, nlpsol\n",
    "from pinocchio import casadi as cpin\n",
    "import pinocchio as pin\n",
    "import meshcat\n",
    "import meshcat.geometry as g\n",
    "import meshcat.transformations as tf\n",
    "import time\n",
    "import scipy.linalg\n",
    "from scipy.spatial import ConvexHull\n",
    "from pinocchio.visualize import MeshcatVisualizer\n",
    "from IPython.display import display\n",
    "from hppfcl import Box\n"
   ]
  },
  {
   "cell_type": "markdown",
   "id": "21304fa5",
   "metadata": {},
   "source": [
    "## Define link length variables\n",
    "We define symbolic variables for the 7 link lengths and axes order for each links.\n"
   ]
  },
  {
   "cell_type": "code",
   "execution_count": 48,
   "id": "cd5f0ab3",
   "metadata": {},
   "outputs": [],
   "source": [
    "# --- Step 1: Define symbolic variables\n",
    "L = SX.sym(\"L\", 7)\n",
    "Y = SX.sym(\"Y\", 7)\n",
    "# theta = SX.sym(\"theta\", 21)\n",
    "q = SX.sym(\"q\", 7)\n",
    "\n",
    "# --- Step 2: Define joint axes (symbolic)\n",
    "joint_axes = [\n",
    "    SX([1.0, 0.0, 0.0]),\n",
    "    SX([0.0, 1.0, 0.0]),\n",
    "    SX([0.0, 0.0, 1.0]),\n",
    "    SX([1.0, 0.0, 0.0]),\n",
    "    SX([0.0, 0.0, 1.0]),\n",
    "    SX([1.0, 0.0, 0.0]),\n",
    "    SX([0.0, 0.0, 1.0])\n",
    "]"
   ]
  },
  {
   "cell_type": "markdown",
   "id": "12b2ba34",
   "metadata": {},
   "source": [
    "## Build a casadi 7-DOF planar arm in Pinocchio\n",
    "\n"
   ]
  },
  {
   "cell_type": "code",
   "execution_count": 49,
   "id": "111ec64a",
   "metadata": {},
   "outputs": [],
   "source": [
    "def build_f_kine_fixed():\n",
    "    model = cpin.Model()\n",
    "    joint_placement = cpin.SE3.Identity()\n",
    "    parent_id = 0\n",
    "\n",
    "    for i in range(7):\n",
    "        axis_i = joint_axes[i]\n",
    "        joint_id = model.addJoint(\n",
    "            parent_id,\n",
    "            cpin.JointModelRevoluteUnaligned(axis_i),\n",
    "            joint_placement,\n",
    "            f\"joint{i}\"\n",
    "        )\n",
    "        model.appendBodyToJoint(joint_id, cpin.Inertia.Random(), cpin.SE3.Identity())\n",
    "        model.addFrame(cpin.Frame(f\"link{i}\", joint_id, 0, cpin.SE3.Identity(), cpin.FrameType.BODY))\n",
    "\n",
    "        # Offset from current joint to next joint using homogeneous transform\n",
    "        R = SX.eye(3)\n",
    "        p = vertcat(L[i], Y[i], 0)\n",
    "        T_offset = SX.zeros(4, 4)\n",
    "        T_offset[:3, :3] = R\n",
    "        T_offset[:3, 3] = p\n",
    "        T_offset[3, 3] = 1.0\n",
    "        offset = cpin.SE3(T_offset)\n",
    "\n",
    "        joint_placement = joint_placement * offset\n",
    "        parent_id = joint_id\n",
    "\n",
    "    # Add hand effector frame at the tip of the last link\n",
    "    T_eff = SX.zeros(4, 4)\n",
    "    T_eff[:3, :3] = SX.eye(3)\n",
    "    T_eff[3, 3] = 1.0\n",
    "    T_effector = cpin.SE3(T_eff)\n",
    "    model.addFrame(cpin.Frame(\"hand_effector\", parent_id, 0, T_effector, cpin.FrameType.OP_FRAME))\n",
    "\n",
    "    data = cpin.Data(model)\n",
    "    cpin.forwardKinematics(model, data, q)\n",
    "    cpin.updateFramePlacements(model, data)\n",
    "    p_ee = data.oMf[model.getFrameId(\"hand_effector\")].translation\n",
    "\n",
    "    return Function(\"f_kine_fixed\", [L, Y, q], [p_ee])\n",
    "\n",
    "f_kine = build_f_kine_fixed()"
   ]
  },
  {
   "cell_type": "markdown",
   "id": "53fd0971",
   "metadata": {},
   "source": [
    "##  Manipulability score function\n",
    "This function computes the average Yoshikawa manipulability index over a set of random joint configurations.\n"
   ]
  },
  {
   "cell_type": "code",
   "execution_count": 50,
   "id": "44257fb7",
   "metadata": {},
   "outputs": [],
   "source": [
    "# --- Step 4: Define workspace metric function\n",
    "def build_workspace_metric(N=600):\n",
    "    q_lower = np.deg2rad([-170, -15, -170, -120, -170, -30, -45])\n",
    "    q_upper = np.deg2rad([170, 180, 170, 120, 170, 60, 80])\n",
    "    q_samples = np.random.uniform(q_lower, q_upper, size=(N, 7))\n",
    "    p_samples = [f_kine(L, Y, q_sample) for q_sample in q_samples]\n",
    "    mean_p = sum(p_samples) / N\n",
    "    spread = sum([sum1((p - mean_p)**2) for p in p_samples]) / N\n",
    "    return Function(\"workspace_metric\", [L, Y], [spread]), q_samples"
   ]
  },
  {
   "cell_type": "markdown",
   "id": "b2f71972",
   "metadata": {},
   "source": [
    "Yoshikawa"
   ]
  },
  {
   "cell_type": "code",
   "execution_count": 51,
   "id": "6aa9e4eb",
   "metadata": {},
   "outputs": [],
   "source": [
    "def build_manipulability_metric(N=600):\n",
    "    from casadi import trace\n",
    "    q_lower = np.deg2rad([-170, -15, -170, -120, -170, -30, -45])\n",
    "    q_upper = np.deg2rad([170, 180, 170, 120, 170, 60, 80])\n",
    "    q_samples = np.random.uniform(q_lower, q_upper, size=(N, 7))\n",
    "\n",
    "    # Create symbolic Jacobian function\n",
    "    def build_f_jacobian():\n",
    "        model = cpin.Model()\n",
    "        joint_placement = cpin.SE3.Identity()\n",
    "        parent_id = 0\n",
    "        for i in range(7):\n",
    "            axis_i = joint_axes[i]\n",
    "            joint_id = model.addJoint(\n",
    "                parent_id,\n",
    "                cpin.JointModelRevoluteUnaligned(axis_i),\n",
    "                joint_placement,\n",
    "                f\"joint{i}\"\n",
    "            )\n",
    "            model.appendBodyToJoint(joint_id, cpin.Inertia.Random(), cpin.SE3.Identity())\n",
    "            model.addFrame(cpin.Frame(f\"link{i}\", joint_id, 0, cpin.SE3.Identity(), cpin.FrameType.BODY))\n",
    "\n",
    "            T_offset = cpin.SE3(SX.eye(3), vertcat(L[i], Y[i], 0))\n",
    "            joint_placement = joint_placement * T_offset\n",
    "            parent_id = joint_id\n",
    "\n",
    "        T_effector = cpin.SE3(SX.eye(3), SX([0.0, 0.0, 0.0]))\n",
    "        model.addFrame(cpin.Frame(\"hand_effector\", parent_id, 0, T_effector, cpin.FrameType.OP_FRAME))\n",
    "\n",
    "        data = cpin.Data(model)\n",
    "        cpin.forwardKinematics(model, data, q)\n",
    "        cpin.updateFramePlacements(model, data)\n",
    "        frame_id = model.getFrameId(\"hand_effector\")\n",
    "        J = cpin.computeFrameJacobian(model, data, q, frame_id, cpin.ReferenceFrame.LOCAL_WORLD_ALIGNED)\n",
    "        return Function(\"f_jacobian\", [L, Y, q], [J])\n",
    "\n",
    "    f_jacobian = build_f_jacobian()\n",
    "    w_samples = []\n",
    "    for q_sample in q_samples:\n",
    "        J = f_jacobian(L, Y, q_sample)\n",
    "        JJt = J[:3, :] @ J[:3, :].T\n",
    "        manipulability = trace(JJt)  # proxy for isotropic spread\n",
    "        w_samples.append(manipulability)\n",
    "\n",
    "    manipulability_score = sum(w_samples) / N\n",
    "    return Function(\"workspace_metric\", [L, Y], [manipulability_score]), q_samples"
   ]
  },
  {
   "cell_type": "code",
   "execution_count": 52,
   "id": "d6f6e124",
   "metadata": {},
   "outputs": [],
   "source": [
    "workspace_metric, q_samples = build_manipulability_metric()"
   ]
  },
  {
   "cell_type": "markdown",
   "id": "63a87c23",
   "metadata": {},
   "source": [
    "## Optimization with CasADi\n",
    "We define an objective function that returns the negative manipulability score for given link lengths, and solve it using IPOPT.\n"
   ]
  },
  {
   "cell_type": "code",
   "execution_count": 53,
   "id": "32657547",
   "metadata": {},
   "outputs": [
    {
     "name": "stdout",
     "output_type": "stream",
     "text": [
      "This is Ipopt version 3.14.17, running with linear solver MUMPS 5.7.3.\n",
      "\n",
      "Number of nonzeros in equality constraint Jacobian...:        0\n",
      "Number of nonzeros in inequality constraint Jacobian.:        0\n",
      "Number of nonzeros in Lagrangian Hessian.............:       21\n",
      "\n",
      "Total number of variables............................:        7\n",
      "                     variables with only lower bounds:        0\n",
      "                variables with lower and upper bounds:        7\n",
      "                     variables with only upper bounds:        0\n",
      "Total number of equality constraints.................:        0\n",
      "Total number of inequality constraints...............:        0\n",
      "        inequality constraints with only lower bounds:        0\n",
      "   inequality constraints with lower and upper bounds:        0\n",
      "        inequality constraints with only upper bounds:        0\n",
      "\n",
      "iter    objective    inf_pr   inf_du lg(mu)  ||d||  lg(rg) alpha_du alpha_pr  ls\n",
      "   0 -1.2385141e+01 0.00e+00 3.45e+01  -1.0 0.00e+00    -  0.00e+00 0.00e+00   0\n",
      "   1 -1.1515266e+01 0.00e+00 1.85e+01  -1.0 9.80e-02    -  1.00e+00 6.25e-02f  5\n",
      "   2 -1.1933545e+01 0.00e+00 8.36e-01  -1.0 4.29e-02    -  1.00e+00 4.22e-01f  2\n",
      "   3 -1.2414894e+01 0.00e+00 7.11e-14  -1.7 5.41e-03    -  1.00e+00 1.00e+00f  1\n",
      "   4 -1.2550807e+01 0.00e+00 2.08e-03  -3.8 2.09e-03    -  9.89e-01 1.00e+00f  1\n",
      "   5 -1.2551040e+01 0.00e+00 4.26e-14  -3.8 7.91e-03    -  1.00e+00 1.00e+00f  1\n",
      "   6 -1.2551931e+01 0.00e+00 9.95e-14  -5.7 1.44e-04    -  1.00e+00 1.00e+00f  1\n",
      "   7 -1.2551942e+01 0.00e+00 2.84e-14  -8.6 1.58e-05    -  1.00e+00 1.00e+00f  1\n",
      "\n",
      "Number of Iterations....: 7\n",
      "\n",
      "                                   (scaled)                 (unscaled)\n",
      "Objective...............:  -1.2551942420265723e+01   -1.2551942420265723e+01\n",
      "Dual infeasibility......:   2.8421709430404007e-14    2.8421709430404007e-14\n",
      "Constraint violation....:   0.0000000000000000e+00    0.0000000000000000e+00\n",
      "Variable bound violation:   9.9278700815830234e-09    9.9278700815830234e-09\n",
      "Complementarity.........:   3.0875713147685359e-09    3.0875713147685359e-09\n",
      "Overall NLP error.......:   3.0875713147685359e-09    3.0875713147685359e-09\n",
      "\n",
      "\n",
      "Number of objective function evaluations             = 21\n",
      "Number of objective gradient evaluations             = 8\n",
      "Number of equality constraint evaluations            = 0\n",
      "Number of inequality constraint evaluations          = 0\n",
      "Number of equality constraint Jacobian evaluations   = 0\n",
      "Number of inequality constraint Jacobian evaluations = 0\n",
      "Number of Lagrangian Hessian evaluations             = 7\n",
      "Total seconds in IPOPT                               = 0.038\n",
      "\n",
      "EXIT: Optimal Solution Found.\n",
      "      solver  :   t_proc      (avg)   t_wall      (avg)    n_eval\n",
      "       nlp_f  |   5.50ms (261.95us)   5.50ms (262.09us)        21\n",
      "  nlp_grad_f  |   5.91ms (590.80us)   5.92ms (591.97us)        10\n",
      "  nlp_hess_l  |  24.00ms (  3.43ms)  24.00ms (  3.43ms)         7\n",
      "       total  |  38.42ms ( 38.42ms)  38.49ms ( 38.49ms)         1\n",
      "\n",
      "✅ Optimized link lengths: [0.15000001 0.15000001 0.15000001 0.15000001 0.15000001 0.15000001\n",
      " 0.11160595]\n",
      "✅ Optimized Y offsets: [0. 0. 0. 0. 0. 0. 0.]\n"
     ]
    }
   ],
   "source": [
    "# --- Step 5: Optimize workspace metric\n",
    "x = vertcat(L, Y)  # seulement L et Y\n",
    "nlp = {\"x\": x, \"f\": -workspace_metric(x[:7], x[7:])}\n",
    "solver = nlpsol(\"solver\", \"ipopt\", nlp)\n",
    "\n",
    "x0 = np.concatenate([np.ones(7) * 0.3, np.zeros(7)])\n",
    "lbx = [0.05]*7 + [-0]*7\n",
    "ubx = [0.15]*7 + [0]*7\n",
    "\n",
    "result = solver(x0=x0, lbx=lbx, ubx=ubx)\n",
    "x_opt = result[\"x\"].full().flatten()\n",
    "\n",
    "L_opt = x_opt[:7]\n",
    "Y_opt = x_opt[7:14]\n",
    "\n",
    "print(\"\\n✅ Optimized link lengths:\", L_opt)\n",
    "print(\"✅ Optimized Y offsets:\", Y_opt)\n",
    "\n"
   ]
  },
  {
   "cell_type": "markdown",
   "id": "37c02562",
   "metadata": {},
   "source": [
    "##  Build the robot\n",
    "We build the robot using the optimal link lengths\n"
   ]
  },
  {
   "cell_type": "code",
   "execution_count": 54,
   "id": "78130912",
   "metadata": {},
   "outputs": [],
   "source": [
    "# --- Step 6: Build real Pinocchio model for Meshcat viewer\n",
    "\n",
    "def build_pin_model(L_vals, Y_vals):\n",
    "    model = pin.Model()\n",
    "    visuals = pin.GeometryModel()\n",
    "    joint_placement = pin.SE3.Identity()\n",
    "    parent_id = 0\n",
    "\n",
    "    axes_list = [\n",
    "        np.array([1.0, 0.0, 0.0]),  # shoulder roll\n",
    "        np.array([0.0, 1.0, 0.0]),  # shoulder pitch\n",
    "        np.array([0.0, 0.0, 1.0]),  # shoulder yaw\n",
    "        np.array([1.0, 0.0, 0.0]),  # elbow roll\n",
    "        np.array([0.0, 0.0, 1.0]),  # elbow yaw\n",
    "        np.array([1.0, 0.0, 0.0]),  # wrist roll\n",
    "        np.array([0.0, 0.0, 1.0])   # wrist yaw\n",
    "    ]\n",
    "\n",
    "    for i in range(7):\n",
    "        axis = axes_list[i]\n",
    "        joint_id = model.addJoint(\n",
    "            parent_id,\n",
    "            pin.JointModelRevoluteUnaligned(axis),\n",
    "            joint_placement,\n",
    "            f\"joint{i}\"\n",
    "        )\n",
    "        inertia = pin.Inertia.Random()\n",
    "        model.appendBodyToJoint(joint_id, inertia, pin.SE3.Identity())\n",
    "        model.addFrame(pin.Frame(f\"link{i}\", joint_id, 0, pin.SE3.Identity(), pin.FrameType.BODY))\n",
    "\n",
    "        # Offset transform for next joint relative to this joint\n",
    "        T_offset = pin.SE3(np.eye(3), np.array([float(L_vals[i]), float(Y_vals[i]), 0.0]))\n",
    "        joint_placement = joint_placement * T_offset  \n",
    "\n",
    "\n",
    "        # Visualisation\n",
    "        color = np.random.rand(4)\n",
    "        color[3] = 0.8\n",
    "\n",
    "        # Position du visuel au milieu du link, dans le repère local\n",
    "        box_x = Box(float(L_vals[i]), 0.02, 0.02)\n",
    "        offset_x = pin.SE3(np.eye(3), np.array([float(L_vals[i]) / 2, 0.0, 0.0]))\n",
    "        geom_obj_x = pin.GeometryObject(f\"visual_joint{i}_x\", joint_id, joint_id, offset_x, box_x)\n",
    "\n",
    "        geom_obj_x.meshColor = color\n",
    "        visuals.addGeometryObject(geom_obj_x)\n",
    "\n",
    "        if abs(Y_vals[i]) > 1e-6:\n",
    "            box_y = Box(0.02, float(abs(Y_vals[i])), 0.02)\n",
    "            offset_y = pin.SE3(np.eye(3), np.array([0.0, Y_vals[i] / 2.0, 0.0]))\n",
    "            geom_obj_y = pin.GeometryObject(f\"visual_joint{i}_y\", joint_id, joint_id, offset_y, box_y)\n",
    "\n",
    "            visuals.addGeometryObject(geom_obj_y)\n",
    "\n",
    "        parent_id = joint_id\n",
    "\n",
    "    # Add hand effector frame at the end of the last link\n",
    "    T_effector = pin.SE3(np.eye(3), np.array([0.0, 0.0, 0.0]))\n",
    "    model.addFrame(pin.Frame(\"hand_effector\", parent_id, 0, T_effector, pin.FrameType.OP_FRAME))\n",
    "\n",
    "    return model, visuals\n",
    "\n",
    "pin_model, visual_model = build_pin_model(L_opt, Y_opt)\n",
    "pin_data = pin_model.createData()"
   ]
  },
  {
   "cell_type": "markdown",
   "id": "9bf7ab3f",
   "metadata": {},
   "source": [
    "##  Visualize the optimized robot\n",
    "We display it using Meshcat.\n"
   ]
  },
  {
   "cell_type": "code",
   "execution_count": 55,
   "id": "27dde4b8",
   "metadata": {},
   "outputs": [
    {
     "name": "stdout",
     "output_type": "stream",
     "text": [
      "You can open the visualizer by visiting the following URL:\n",
      "http://127.0.0.1:7005/static/\n"
     ]
    },
    {
     "data": {
      "text/html": [
       "\n",
       "            <div style=\"height: 400px; width: 100%; overflow-x: auto; overflow-y: hidden; resize: both\">\n",
       "            <iframe src=\"http://127.0.0.1:7005/static/\" style=\"width: 100%; height: 100%; border: none\"></iframe>\n",
       "            </div>\n",
       "            "
      ],
      "text/plain": [
       "<IPython.core.display.HTML object>"
      ]
     },
     "execution_count": 55,
     "metadata": {},
     "output_type": "execute_result"
    }
   ],
   "source": [
    "viz = MeshcatVisualizer(pin_model, visual_model, visual_model)\n",
    "viz.initViewer()\n",
    "viz.loadViewerModel()\n",
    "viz.viewer.jupyter_cell()"
   ]
  },
  {
   "cell_type": "code",
   "execution_count": 56,
   "id": "79e15917",
   "metadata": {},
   "outputs": [
    {
     "name": "stdout",
     "output_type": "stream",
     "text": [
      "⚠️ Convex hull failed: tuple index out of range\n",
      "\n",
      "🎞️ Displaying animated trajectory...\n"
     ]
    }
   ],
   "source": [
    "# --- Step 9: Display workspace points and convex hull\n",
    "workspace_points = []\n",
    "model = pin_model\n",
    "data = model.createData()\n",
    "endEffector_ID = model.getFrameId(\"hand_effector\")\n",
    "\n",
    "# for i, q_sample in enumerate(q_samples):\n",
    "#     pin.forwardKinematics(model, data, q_sample)\n",
    "#     pin.updateFramePlacements(model, data)\n",
    "#     p = data.oMf[endEffector_ID].translation\n",
    "#     workspace_points.append(p)\n",
    "#     sphere = g.Sphere(0.01)\n",
    "#     mat = g.MeshLambertMaterial(color=0xff0000)\n",
    "#     viz.viewer[f\"workspace/pt_{i}\"].set_object(sphere, mat)\n",
    "#     viz.viewer[f\"workspace/pt_{i}\"].set_transform(tf.translation_matrix(p))\n",
    "\n",
    "try:\n",
    "    workspace_points = np.array(workspace_points)\n",
    "    hull = ConvexHull(workspace_points)\n",
    "    viz.viewer[\"workspace/hull\"].set_object(\n",
    "        g.TriangularMeshGeometry(workspace_points, hull.simplices),\n",
    "        g.MeshLambertMaterial(color=0x00ff00, opacity=0.3, transparent=True)\n",
    "    )\n",
    "    print(\"✅ Convex hull volume:\", hull.volume)\n",
    "except Exception as e:\n",
    "    print(\"⚠️ Convex hull failed:\", e)\n",
    "\n",
    "def displayScene(q, dt):\n",
    "    pin.forwardKinematics(model, data, q)\n",
    "    pin.updateFramePlacements(model, data)\n",
    "\n",
    "    M = data.oMf[endEffector_ID]\n",
    "\n",
    "    # Afficher une sphère au niveau du hand effector\n",
    "    sphere = g.Sphere(0.02)\n",
    "    mat = g.MeshLambertMaterial(color=0xffff00)  # jaune\n",
    "    viz.viewer[\"hand_effector/sphere\"].set_object(sphere, mat)\n",
    "    viz.viewer[\"hand_effector/sphere\"].set_transform(tf.translation_matrix(M.translation))\n",
    "\n",
    "    viz.display(q)\n",
    "    time.sleep(dt)\n",
    "\n",
    "def displayTraj(qs, dt):\n",
    "    for q in qs:\n",
    "        displayScene(q, dt)\n",
    "\n",
    "# Generate and animate trajectory\n",
    "n_steps = 100\n",
    "q_traj = np.linspace(-np.pi / 4, np.pi / 4, n_steps).reshape(-1, 1) * np.ones((n_steps, model.nq))\n",
    "\n",
    "print(\"\\n🎞️ Displaying animated trajectory...\")\n",
    "displayTraj(q_traj, dt=0.05)"
   ]
  },
  {
   "cell_type": "code",
   "execution_count": 57,
   "id": "de630a78",
   "metadata": {},
   "outputs": [],
   "source": [
    "displayScene(np.zeros(7), dt=0.05)  # Display last configuration"
   ]
  }
 ],
 "metadata": {
  "kernelspec": {
   "display_name": "pino",
   "language": "python",
   "name": "python3"
  },
  "language_info": {
   "codemirror_mode": {
    "name": "ipython",
    "version": 3
   },
   "file_extension": ".py",
   "mimetype": "text/x-python",
   "name": "python",
   "nbconvert_exporter": "python",
   "pygments_lexer": "ipython3",
   "version": "3.13.2"
  }
 },
 "nbformat": 4,
 "nbformat_minor": 5
}

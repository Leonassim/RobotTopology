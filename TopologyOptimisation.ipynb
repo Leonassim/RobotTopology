{
 "cells": [
  {
   "cell_type": "markdown",
   "id": "08437f45",
   "metadata": {},
   "source": [
    "# 🤖 7-DOF Robot Topology Optimization using Pinocchio + CasADi\n",
    "\n",
    "This notebook demonstrates how to optimize the link lengths of a 7-DOF robotic arm using CasADi and Pinocchio.  \n",
    "The objective is to maximize the average manipulability over a set of sampled configurations.\n"
   ]
  },
  {
   "cell_type": "code",
   "execution_count": 6,
   "id": "7fa7d104",
   "metadata": {},
   "outputs": [
    {
     "name": "stdout",
     "output_type": "stream",
     "text": [
      "You can open the visualizer by visiting the following URL:\n",
      "http://127.0.0.1:7001/static/\n"
     ]
    },
    {
     "data": {
      "text/html": [
       "\n",
       "            <div style=\"height: 400px; width: 100%; overflow-x: auto; overflow-y: hidden; resize: both\">\n",
       "            <iframe src=\"http://127.0.0.1:7001/static/\" style=\"width: 100%; height: 100%; border: none\"></iframe>\n",
       "            </div>\n",
       "            "
      ],
      "text/plain": [
       "<IPython.core.display.HTML object>"
      ]
     },
     "execution_count": 6,
     "metadata": {},
     "output_type": "execute_result"
    }
   ],
   "source": [
    "import time\n",
    "import numpy as np\n",
    "import casadi\n",
    "from casadi import SX, vertcat, Function, nlpsol\n",
    "import pinocchio as pin\n",
    "from pinocchio import casadi as cpin\n",
    "import matplotlib.pyplot as plt\n",
    "from pinocchio.visualize import MeshcatVisualizer\n",
    "import meshcat\n",
    "vis = meshcat.Visualizer()\n",
    "vis.jupyter_cell()"
   ]
  },
  {
   "cell_type": "markdown",
   "id": "21304fa5",
   "metadata": {},
   "source": [
    "## 🧩 1. Define link length variables\n",
    "We define symbolic variables for the 7 link lengths and provide default initial values.\n"
   ]
  },
  {
   "cell_type": "code",
   "execution_count": null,
   "id": "cd5f0ab3",
   "metadata": {},
   "outputs": [],
   "source": []
  },
  {
   "cell_type": "markdown",
   "id": "12b2ba34",
   "metadata": {},
   "source": [
    "## 🏗️ 2. Build a 7-DOF planar arm in Pinocchio\n",
    "Each joint is a revolute joint around the Y-axis (JointModelRY).\n",
    "Links are aligned along X and their lengths are parameters.\n"
   ]
  },
  {
   "cell_type": "code",
   "execution_count": 7,
   "id": "111ec64a",
   "metadata": {},
   "outputs": [],
   "source": [
    "def build_symbolic_robot(lengths_sx):\n",
    "    model = cpin.Model()\n",
    "    joint_placement = cpin.SE3.Identity()\n",
    "    parent_id = 0\n",
    "\n",
    "    for i in range(7):\n",
    "        joint_name = f'joint{i}'\n",
    "        joint_id = model.addJoint(parent_id, cpin.JointModelRY(), joint_placement, joint_name)\n",
    "        inertia = cpin.Inertia.Random()\n",
    "        model.appendBodyToJoint(joint_id, inertia, cpin.SE3.Identity())\n",
    "        model.addFrame(cpin.Frame(f'link{i}', joint_id, 0, cpin.SE3.Identity(), cpin.FrameType.BODY))\n",
    "        parent_id = joint_id\n",
    "\n",
    "        joint_placement = cpin.SE3.Identity()\n",
    "        joint_placement.translation = vertcat(lengths_sx[i], 0, 0)\n",
    "\n",
    "    # model.addBodyFrame(\"ee\", parent_id, cpin.SE3.Identity())\n",
    "    return model\n",
    "\n"
   ]
  },
  {
   "cell_type": "markdown",
   "id": "53fd0971",
   "metadata": {},
   "source": [
    "## 📐 3. Manipulability score function\n",
    "This function computes the average Yoshikawa manipulability index over a set of random joint configurations.\n"
   ]
  },
  {
   "cell_type": "code",
   "execution_count": 8,
   "id": "44257fb7",
   "metadata": {},
   "outputs": [],
   "source": [
    "def symbolic_manipulability(model, lengths_sx):\n",
    "    nq = model.nq\n",
    "    q = SX.sym(\"q\", nq)\n",
    "\n",
    "    data = cpin.Data(model)\n",
    "    cpin.forwardKinematics(model, data, q)\n",
    "    J = cpin.computeJointJacobian(model, data, q, model.njoints - 1)[:3, :]\n",
    "    manipulability = casadi.sqrt(casadi.det(J @ J.T) + 1e-8)\n",
    "    return Function(\"manip_score\", [q], [manipulability])\n",
    "\n"
   ]
  },
  {
   "cell_type": "markdown",
   "id": "63a87c23",
   "metadata": {},
   "source": [
    "## 🔧 4. Optimization with CasADi\n",
    "We define an objective function that returns the negative manipulability score for given link lengths, and solve it using IPOPT.\n"
   ]
  },
  {
   "cell_type": "code",
   "execution_count": 9,
   "id": "32657547",
   "metadata": {},
   "outputs": [],
   "source": [
    "def build_objective_function(lengths_sym):\n",
    "    model = build_symbolic_robot(lengths_sym)\n",
    "    manip_func = symbolic_manipulability(model, lengths_sym)\n",
    "    nq = model.nq\n",
    "\n",
    "    def objective_func(L_vals_np):\n",
    "        manip_scores = []\n",
    "        for _ in range(40):\n",
    "            q_sample = np.random.uniform(-np.pi, np.pi, nq)\n",
    "            manip_scores.append(manip_func(q_sample).full().item())\n",
    "        return -np.mean(manip_scores)\n",
    "\n",
    "    return objective_func\n",
    "\n",
    "\n"
   ]
  },
  {
   "cell_type": "code",
   "execution_count": 10,
   "id": "a7e2dea0",
   "metadata": {},
   "outputs": [
    {
     "name": "stdout",
     "output_type": "stream",
     "text": [
      "\n",
      "******************************************************************************\n",
      "This program contains Ipopt, a library for large-scale nonlinear optimization.\n",
      " Ipopt is released as open source code under the Eclipse Public License (EPL).\n",
      "         For more information visit https://github.com/coin-or/Ipopt\n",
      "******************************************************************************\n",
      "\n",
      "This is Ipopt version 3.14.17, running with linear solver MUMPS 5.7.3.\n",
      "\n",
      "Number of nonzeros in equality constraint Jacobian...:        0\n",
      "Number of nonzeros in inequality constraint Jacobian.:        0\n",
      "Number of nonzeros in Lagrangian Hessian.............:        0\n",
      "\n",
      "Total number of variables............................:        7\n",
      "                     variables with only lower bounds:        0\n",
      "                variables with lower and upper bounds:        7\n",
      "                     variables with only upper bounds:        0\n",
      "Total number of equality constraints.................:        0\n",
      "Total number of inequality constraints...............:        0\n",
      "        inequality constraints with only lower bounds:        0\n",
      "   inequality constraints with lower and upper bounds:        0\n",
      "        inequality constraints with only upper bounds:        0\n",
      "\n",
      "iter    objective    inf_pr   inf_du lg(mu)  ||d||  lg(rg) alpha_du alpha_pr  ls\n",
      "   0 -1.0000000e-04 0.00e+00 0.00e+00  -1.0 0.00e+00    -  0.00e+00 0.00e+00   0\n",
      "   1 -1.0000000e-04 0.00e+00 0.00e+00  -1.7 6.67e-03    -  1.00e+00 1.00e+00f  1\n",
      "   2 -1.0000000e-04 0.00e+00 0.00e+00  -3.8 1.08e-03    -  1.00e+00 1.00e+00f  1\n",
      "   3 -1.0000000e-04 0.00e+00 0.00e+00  -5.7 1.74e-03    -  1.00e+00 1.00e+00f  1\n",
      "   4 -1.0000000e-04 0.00e+00 0.00e+00  -8.6 1.91e-04    -  1.00e+00 1.00e+00f  1\n",
      "\n",
      "Number of Iterations....: 4\n",
      "\n",
      "                                   (scaled)                 (unscaled)\n",
      "Objective...............:  -1.0000000000000000e-04   -1.0000000000000000e-04\n",
      "Dual infeasibility......:   0.0000000000000000e+00    0.0000000000000000e+00\n",
      "Constraint violation....:   0.0000000000000000e+00    0.0000000000000000e+00\n",
      "Variable bound violation:   0.0000000000000000e+00    0.0000000000000000e+00\n",
      "Complementarity.........:   3.2872983772313672e-09    3.2872983772313672e-09\n",
      "Overall NLP error.......:   3.2872983772313672e-09    3.2872983772313672e-09\n",
      "\n",
      "\n",
      "Number of objective function evaluations             = 5\n",
      "Number of objective gradient evaluations             = 5\n",
      "Number of equality constraint evaluations            = 0\n",
      "Number of inequality constraint evaluations          = 0\n",
      "Number of equality constraint Jacobian evaluations   = 0\n",
      "Number of inequality constraint Jacobian evaluations = 0\n",
      "Number of Lagrangian Hessian evaluations             = 4\n",
      "Total seconds in IPOPT                               = 0.004\n",
      "\n",
      "EXIT: Optimal Solution Found.\n",
      "      solver  :   t_proc      (avg)   t_wall      (avg)    n_eval\n",
      "       nlp_f  |  20.00us (  4.00us)  11.64us (  2.33us)         5\n",
      "  nlp_grad_f  |  14.00us (  2.33us)  12.71us (  2.12us)         6\n",
      "  nlp_hess_l  |   4.00us (  1.00us)   3.93us (981.50ns)         4\n",
      "       total  |   3.12ms (  3.12ms)   8.23ms (  8.23ms)         1\n",
      "✅ Optimal link lengths: [0.40968028 0.40968028 0.40968028 0.40968028 0.40968028 0.40968028\n",
      " 0.40968028]\n"
     ]
    }
   ],
   "source": [
    "L_sym = SX.sym(\"L\", 7)                     # 7 symbolic link lengths\n",
    "objective_np = build_objective_function(L_sym)  # builds model, computes manip\n",
    "\n",
    "obj_func = Function(\"f\", [L_sym], [objective_np(L_sym)])  # wrap in CasADi Function\n",
    "\n",
    "nlp = {\"x\": L_sym, \"f\": obj_func(L_sym)}\n",
    "solver = nlpsol(\"solver\", \"ipopt\", nlp)\n",
    "\n",
    "L0 = np.array([0.4] * 7)\n",
    "res = solver(x0=L0, lbx=0.1, ubx=1.0)\n",
    "L_opt = res[\"x\"].full().flatten()\n",
    "print(\"✅ Optimal link lengths:\", L_opt)\n"
   ]
  },
  {
   "cell_type": "markdown",
   "id": "9bf7ab3f",
   "metadata": {},
   "source": [
    "## 🧑‍🎨 5. Visualize the optimized robot\n",
    "We build the robot using the optimal link lengths and display it using Meshcat.\n"
   ]
  },
  {
   "cell_type": "code",
   "execution_count": null,
   "id": "3907e0c2",
   "metadata": {},
   "outputs": [
    {
     "ename": "ArgumentError",
     "evalue": "Python argument types in\n    Model.addBodyFrame(Model, str, int, SE3)\ndid not match C++ signature:\n    addBodyFrame(pinocchio::ModelTpl<double, 0, pinocchio::JointCollectionDefaultTpl> {lvalue} self, std::__cxx11::basic_string<char, std::char_traits<char>, std::allocator<char> > body_name, unsigned long parentJoint, pinocchio::SE3Tpl<double, 0> body_placement, int previous_frame)",
     "output_type": "error",
     "traceback": [
      "\u001b[31m---------------------------------------------------------------------------\u001b[39m",
      "\u001b[31mArgumentError\u001b[39m                             Traceback (most recent call last)",
      "\u001b[36mCell\u001b[39m\u001b[36m \u001b[39m\u001b[32mIn[15]\u001b[39m\u001b[32m, line 24\u001b[39m\n\u001b[32m     21\u001b[39m     \u001b[38;5;28;01mreturn\u001b[39;00m model\n\u001b[32m     23\u001b[39m \u001b[38;5;66;03m# Visualisation\u001b[39;00m\n\u001b[32m---> \u001b[39m\u001b[32m24\u001b[39m visual_model = \u001b[43mbuild_visual_model\u001b[49m\u001b[43m(\u001b[49m\u001b[43mL_opt\u001b[49m\u001b[43m)\u001b[49m\n\u001b[32m     25\u001b[39m data = visual_model.createData()\n\u001b[32m     26\u001b[39m viz = MeshcatVisualizer(visual_model, data, vis)\n",
      "\u001b[36mCell\u001b[39m\u001b[36m \u001b[39m\u001b[32mIn[15]\u001b[39m\u001b[32m, line 20\u001b[39m, in \u001b[36mbuild_visual_model\u001b[39m\u001b[34m(lengths)\u001b[39m\n\u001b[32m     16\u001b[39m     parent_id = joint_id\n\u001b[32m     17\u001b[39m     joint_placement = SE3(pin.utils.rpyToMatrix(\u001b[32m0.0\u001b[39m, \u001b[32m0.0\u001b[39m, \u001b[32m0.0\u001b[39m), np.array([lengths[i], \u001b[32m0.0\u001b[39m, \u001b[32m0.0\u001b[39m]))\n\u001b[32m---> \u001b[39m\u001b[32m20\u001b[39m \u001b[43mmodel\u001b[49m\u001b[43m.\u001b[49m\u001b[43maddBodyFrame\u001b[49m\u001b[43m(\u001b[49m\u001b[33;43m\"\u001b[39;49m\u001b[33;43mee\u001b[39;49m\u001b[33;43m\"\u001b[39;49m\u001b[43m,\u001b[49m\u001b[43m \u001b[49m\u001b[43mparent_id\u001b[49m\u001b[43m,\u001b[49m\u001b[43m \u001b[49m\u001b[43mSE3\u001b[49m\u001b[43m.\u001b[49m\u001b[43mIdentity\u001b[49m\u001b[43m(\u001b[49m\u001b[43m)\u001b[49m\u001b[43m)\u001b[49m\n\u001b[32m     21\u001b[39m \u001b[38;5;28;01mreturn\u001b[39;00m model\n",
      "\u001b[31mArgumentError\u001b[39m: Python argument types in\n    Model.addBodyFrame(Model, str, int, SE3)\ndid not match C++ signature:\n    addBodyFrame(pinocchio::ModelTpl<double, 0, pinocchio::JointCollectionDefaultTpl> {lvalue} self, std::__cxx11::basic_string<char, std::char_traits<char>, std::allocator<char> > body_name, unsigned long parentJoint, pinocchio::SE3Tpl<double, 0> body_placement, int previous_frame)"
     ]
    }
   ],
   "source": [
    "# ⚠️ cette partie utilise un modèle NON-symbolique pour la visualisation (Meshcat ne gère pas SX)\n",
    "from pinocchio import Model, Inertia, Frame, FrameType, SE3\n",
    "import pinocchio as pin\n",
    "\n",
    "def build_visual_model(lengths):\n",
    "    model = Model()\n",
    "    joint_placement = SE3.Identity()\n",
    "    parent_id = 0\n",
    "\n",
    "    for i in range(7):\n",
    "        name = f'joint{i}'\n",
    "        joint_id = model.addJoint(parent_id, pin.JointModelRY(), joint_placement, name)\n",
    "        inertia = Inertia.Random()\n",
    "        model.appendBodyToJoint(joint_id, inertia, SE3.Identity())\n",
    "        model.addFrame(Frame(f'link{i}', joint_id, 0, SE3.Identity(), FrameType.BODY))\n",
    "        parent_id = joint_id\n",
    "        joint_placement = SE3(\n",
    "            pin.utils.rpyToMatrix(0.0, 0.0, 0.0),\n",
    "            np.array([lengths[i], 0.0, 0.0])\n",
    "        )\n",
    "\n",
    "    model.addBodyFrame(\"ee\", parent_id, SE3.Identity())\n",
    "    return model\n",
    "\n",
    "# Visualisation\n",
    "visual_model = build_visual_model(L_opt)\n",
    "data = visual_model.createData()\n",
    "viz = MeshcatVisualizer(visual_model, data, vis)\n",
    "viz.initViewer()\n",
    "viz.loadViewerModel()\n",
    "viz.display(np.zeros(visual_model.nq))\n",
    "\n"
   ]
  },
  {
   "cell_type": "markdown",
   "id": "e7f0bfea",
   "metadata": {},
   "source": [
    "## ✅ Next steps\n",
    "\n",
    "- Compute workspace volume using convex hull (e.g. Qhull)\n",
    "- Add constraints: total arm length, center of mass position, collisions\n",
    "- Include dynamic objectives like total inertia or torque-efficiency\n",
    "- Use a real URDF model and extract symbolic parameters\n"
   ]
  }
 ],
 "metadata": {
  "kernelspec": {
   "display_name": "pino",
   "language": "python",
   "name": "python3"
  },
  "language_info": {
   "codemirror_mode": {
    "name": "ipython",
    "version": 3
   },
   "file_extension": ".py",
   "mimetype": "text/x-python",
   "name": "python",
   "nbconvert_exporter": "python",
   "pygments_lexer": "ipython3",
   "version": "3.13.2"
  }
 },
 "nbformat": 4,
 "nbformat_minor": 5
}
